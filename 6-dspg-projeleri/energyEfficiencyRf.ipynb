{
 "cells": [
  {
   "cell_type": "code",
   "execution_count": 1,
   "id": "e48fbe87",
   "metadata": {
    "_cell_guid": "b1076dfc-b9ad-4769-8c92-a6c4dae69d19",
    "_uuid": "8f2839f25d086af736a60e9eeb907d3b93b6e0e5",
    "execution": {
     "iopub.execute_input": "2024-09-27T22:04:43.849954Z",
     "iopub.status.busy": "2024-09-27T22:04:43.849269Z",
     "iopub.status.idle": "2024-09-27T22:04:44.839885Z",
     "shell.execute_reply": "2024-09-27T22:04:44.838616Z"
    },
    "papermill": {
     "duration": 1.001226,
     "end_time": "2024-09-27T22:04:44.842691",
     "exception": false,
     "start_time": "2024-09-27T22:04:43.841465",
     "status": "completed"
    },
    "tags": []
   },
   "outputs": [
    {
     "name": "stdout",
     "output_type": "stream",
     "text": [
      "/kaggle/input/eergy-efficiency-dataset/ENB2012_data.csv\n"
     ]
    }
   ],
   "source": [
    "# This Python 3 environment comes with many helpful analytics libraries installed\n",
    "# It is defined by the kaggle/python Docker image: https://github.com/kaggle/docker-python\n",
    "# For example, here's several helpful packages to load\n",
    "\n",
    "import numpy as np # linear algebra\n",
    "import pandas as pd # data processing, CSV file I/O (e.g. pd.read_csv)\n",
    "\n",
    "# Input data files are available in the read-only \"../input/\" directory\n",
    "# For example, running this (by clicking run or pressing Shift+Enter) will list all files under the input directory\n",
    "\n",
    "import os\n",
    "for dirname, _, filenames in os.walk('/kaggle/input'):\n",
    "    for filename in filenames:\n",
    "        print(os.path.join(dirname, filename))\n",
    "\n",
    "# You can write up to 20GB to the current directory (/kaggle/working/) that gets preserved as output when you create a version using \"Save & Run All\" \n",
    "# You can also write temporary files to /kaggle/temp/, but they won't be saved outside of the current session"
   ]
  },
  {
   "cell_type": "code",
   "execution_count": 2,
   "id": "6e674bf4",
   "metadata": {
    "execution": {
     "iopub.execute_input": "2024-09-27T22:04:44.856902Z",
     "iopub.status.busy": "2024-09-27T22:04:44.856293Z",
     "iopub.status.idle": "2024-09-27T22:04:44.909084Z",
     "shell.execute_reply": "2024-09-27T22:04:44.907715Z"
    },
    "papermill": {
     "duration": 0.063734,
     "end_time": "2024-09-27T22:04:44.912570",
     "exception": false,
     "start_time": "2024-09-27T22:04:44.848836",
     "status": "completed"
    },
    "tags": []
   },
   "outputs": [
    {
     "data": {
      "text/html": [
       "<div>\n",
       "<style scoped>\n",
       "    .dataframe tbody tr th:only-of-type {\n",
       "        vertical-align: middle;\n",
       "    }\n",
       "\n",
       "    .dataframe tbody tr th {\n",
       "        vertical-align: top;\n",
       "    }\n",
       "\n",
       "    .dataframe thead th {\n",
       "        text-align: right;\n",
       "    }\n",
       "</style>\n",
       "<table border=\"1\" class=\"dataframe\">\n",
       "  <thead>\n",
       "    <tr style=\"text-align: right;\">\n",
       "      <th></th>\n",
       "      <th>X1</th>\n",
       "      <th>X2</th>\n",
       "      <th>X3</th>\n",
       "      <th>X4</th>\n",
       "      <th>X5</th>\n",
       "      <th>X6</th>\n",
       "      <th>X7</th>\n",
       "      <th>X8</th>\n",
       "      <th>Y1</th>\n",
       "      <th>Y2</th>\n",
       "    </tr>\n",
       "  </thead>\n",
       "  <tbody>\n",
       "    <tr>\n",
       "      <th>0</th>\n",
       "      <td>0.98</td>\n",
       "      <td>514.5</td>\n",
       "      <td>294.0</td>\n",
       "      <td>110.25</td>\n",
       "      <td>7.0</td>\n",
       "      <td>2</td>\n",
       "      <td>0.0</td>\n",
       "      <td>0</td>\n",
       "      <td>15.55</td>\n",
       "      <td>21.33</td>\n",
       "    </tr>\n",
       "    <tr>\n",
       "      <th>1</th>\n",
       "      <td>0.98</td>\n",
       "      <td>514.5</td>\n",
       "      <td>294.0</td>\n",
       "      <td>110.25</td>\n",
       "      <td>7.0</td>\n",
       "      <td>3</td>\n",
       "      <td>0.0</td>\n",
       "      <td>0</td>\n",
       "      <td>15.55</td>\n",
       "      <td>21.33</td>\n",
       "    </tr>\n",
       "    <tr>\n",
       "      <th>2</th>\n",
       "      <td>0.98</td>\n",
       "      <td>514.5</td>\n",
       "      <td>294.0</td>\n",
       "      <td>110.25</td>\n",
       "      <td>7.0</td>\n",
       "      <td>4</td>\n",
       "      <td>0.0</td>\n",
       "      <td>0</td>\n",
       "      <td>15.55</td>\n",
       "      <td>21.33</td>\n",
       "    </tr>\n",
       "    <tr>\n",
       "      <th>3</th>\n",
       "      <td>0.98</td>\n",
       "      <td>514.5</td>\n",
       "      <td>294.0</td>\n",
       "      <td>110.25</td>\n",
       "      <td>7.0</td>\n",
       "      <td>5</td>\n",
       "      <td>0.0</td>\n",
       "      <td>0</td>\n",
       "      <td>15.55</td>\n",
       "      <td>21.33</td>\n",
       "    </tr>\n",
       "    <tr>\n",
       "      <th>4</th>\n",
       "      <td>0.90</td>\n",
       "      <td>563.5</td>\n",
       "      <td>318.5</td>\n",
       "      <td>122.50</td>\n",
       "      <td>7.0</td>\n",
       "      <td>2</td>\n",
       "      <td>0.0</td>\n",
       "      <td>0</td>\n",
       "      <td>20.84</td>\n",
       "      <td>28.28</td>\n",
       "    </tr>\n",
       "  </tbody>\n",
       "</table>\n",
       "</div>"
      ],
      "text/plain": [
       "     X1     X2     X3      X4   X5  X6   X7  X8     Y1     Y2\n",
       "0  0.98  514.5  294.0  110.25  7.0   2  0.0   0  15.55  21.33\n",
       "1  0.98  514.5  294.0  110.25  7.0   3  0.0   0  15.55  21.33\n",
       "2  0.98  514.5  294.0  110.25  7.0   4  0.0   0  15.55  21.33\n",
       "3  0.98  514.5  294.0  110.25  7.0   5  0.0   0  15.55  21.33\n",
       "4  0.90  563.5  318.5  122.50  7.0   2  0.0   0  20.84  28.28"
      ]
     },
     "execution_count": 2,
     "metadata": {},
     "output_type": "execute_result"
    }
   ],
   "source": [
    "df = pd.read_csv('/kaggle/input/eergy-efficiency-dataset/ENB2012_data.csv')\n",
    "pd.set_option('max_colwidth', 100)\n",
    "df.head(5)"
   ]
  },
  {
   "cell_type": "code",
   "execution_count": 3,
   "id": "11add822",
   "metadata": {
    "execution": {
     "iopub.execute_input": "2024-09-27T22:04:44.927817Z",
     "iopub.status.busy": "2024-09-27T22:04:44.927360Z",
     "iopub.status.idle": "2024-09-27T22:04:44.985377Z",
     "shell.execute_reply": "2024-09-27T22:04:44.984080Z"
    },
    "papermill": {
     "duration": 0.068733,
     "end_time": "2024-09-27T22:04:44.988110",
     "exception": false,
     "start_time": "2024-09-27T22:04:44.919377",
     "status": "completed"
    },
    "tags": []
   },
   "outputs": [
    {
     "name": "stdout",
     "output_type": "stream",
     "text": [
      "##################### Shape #####################\n",
      "(768, 10)\n",
      "##################### Types #####################\n",
      "X1    float64\n",
      "X2    float64\n",
      "X3    float64\n",
      "X4    float64\n",
      "X5    float64\n",
      "X6      int64\n",
      "X7    float64\n",
      "X8      int64\n",
      "Y1    float64\n",
      "Y2    float64\n",
      "dtype: object\n",
      "##################### Head #####################\n",
      "     X1     X2     X3      X4   X5  X6   X7  X8     Y1     Y2\n",
      "0  0.98  514.5  294.0  110.25  7.0   2  0.0   0  15.55  21.33\n",
      "1  0.98  514.5  294.0  110.25  7.0   3  0.0   0  15.55  21.33\n",
      "2  0.98  514.5  294.0  110.25  7.0   4  0.0   0  15.55  21.33\n",
      "3  0.98  514.5  294.0  110.25  7.0   5  0.0   0  15.55  21.33\n",
      "4  0.90  563.5  318.5  122.50  7.0   2  0.0   0  20.84  28.28\n",
      "##################### Tail #####################\n",
      "       X1     X2     X3     X4   X5  X6   X7  X8     Y1     Y2\n",
      "763  0.64  784.0  343.0  220.5  3.5   5  0.4   5  17.88  21.40\n",
      "764  0.62  808.5  367.5  220.5  3.5   2  0.4   5  16.54  16.88\n",
      "765  0.62  808.5  367.5  220.5  3.5   3  0.4   5  16.44  17.11\n",
      "766  0.62  808.5  367.5  220.5  3.5   4  0.4   5  16.48  16.61\n",
      "767  0.62  808.5  367.5  220.5  3.5   5  0.4   5  16.64  16.03\n",
      "##################### NA #####################\n",
      "X1    0\n",
      "X2    0\n",
      "X3    0\n",
      "X4    0\n",
      "X5    0\n",
      "X6    0\n",
      "X7    0\n",
      "X8    0\n",
      "Y1    0\n",
      "Y2    0\n",
      "dtype: int64\n",
      "##################### Quantiles #####################\n",
      "    count        mean        std     min      0%        5%     50%      95%  \\\n",
      "X1  768.0    0.764167   0.105777    0.62    0.62    0.6200    0.75    0.980   \n",
      "X2  768.0  671.708333  88.086116  514.50  514.50  514.5000  673.75  808.500   \n",
      "X3  768.0  318.500000  43.626481  245.00  245.00  245.0000  318.50  416.500   \n",
      "X4  768.0  176.604167  45.165950  110.25  110.25  110.2500  183.75  220.500   \n",
      "X5  768.0    5.250000   1.751140    3.50    3.50    3.5000    5.25    7.000   \n",
      "X6  768.0    3.500000   1.118763    2.00    2.00    2.0000    3.50    5.000   \n",
      "X7  768.0    0.234375   0.133221    0.00    0.00    0.0000    0.25    0.400   \n",
      "X8  768.0    2.812500   1.550960    0.00    0.00    0.0000    3.00    5.000   \n",
      "Y1  768.0   22.307201  10.090196    6.01    6.01   10.4635   18.95   39.860   \n",
      "Y2  768.0   24.587760   9.513306   10.90   10.90   13.6175   22.08   40.037   \n",
      "\n",
      "         99%    100%     max  \n",
      "X1    0.9800    0.98    0.98  \n",
      "X2  808.5000  808.50  808.50  \n",
      "X3  416.5000  416.50  416.50  \n",
      "X4  220.5000  220.50  220.50  \n",
      "X5    7.0000    7.00    7.00  \n",
      "X6    5.0000    5.00    5.00  \n",
      "X7    0.4000    0.40    0.40  \n",
      "X8    5.0000    5.00    5.00  \n",
      "Y1   42.0899   43.10   43.10  \n",
      "Y2   45.5431   48.03   48.03  \n"
     ]
    }
   ],
   "source": [
    "def check_df(dataframe, head=5):\n",
    "    print(\"##################### Shape #####################\")\n",
    "    print(dataframe.shape)\n",
    "    print(\"##################### Types #####################\")\n",
    "    print(dataframe.dtypes)\n",
    "    print(\"##################### Head #####################\")\n",
    "    print(dataframe.head(head))\n",
    "    print(\"##################### Tail #####################\")\n",
    "    print(dataframe.tail(head))\n",
    "    print(\"##################### NA #####################\")\n",
    "    print(dataframe.isnull().sum())\n",
    "    print(\"##################### Quantiles #####################\")\n",
    "    print(dataframe.describe([0, 0.05, 0.50, 0.95, 0.99, 1]).T)\n",
    "\n",
    "\n",
    "check_df(df)"
   ]
  },
  {
   "cell_type": "code",
   "execution_count": 4,
   "id": "dc60dd6e",
   "metadata": {
    "execution": {
     "iopub.execute_input": "2024-09-27T22:04:45.002340Z",
     "iopub.status.busy": "2024-09-27T22:04:45.001920Z",
     "iopub.status.idle": "2024-09-27T22:04:46.825101Z",
     "shell.execute_reply": "2024-09-27T22:04:46.823808Z"
    },
    "papermill": {
     "duration": 1.833843,
     "end_time": "2024-09-27T22:04:46.828088",
     "exception": false,
     "start_time": "2024-09-27T22:04:44.994245",
     "status": "completed"
    },
    "tags": []
   },
   "outputs": [],
   "source": [
    "import pandas as pd\n",
    "from sklearn.model_selection import train_test_split\n",
    "from sklearn.ensemble import RandomForestRegressor\n",
    "from sklearn.metrics import mean_squared_error, r2_score\n",
    "\n",
    "import warnings\n",
    "warnings.filterwarnings('ignore')"
   ]
  },
  {
   "cell_type": "code",
   "execution_count": 5,
   "id": "de0beca7",
   "metadata": {
    "execution": {
     "iopub.execute_input": "2024-09-27T22:04:46.844033Z",
     "iopub.status.busy": "2024-09-27T22:04:46.843379Z",
     "iopub.status.idle": "2024-09-27T22:04:46.855475Z",
     "shell.execute_reply": "2024-09-27T22:04:46.854177Z"
    },
    "papermill": {
     "duration": 0.023847,
     "end_time": "2024-09-27T22:04:46.858169",
     "exception": false,
     "start_time": "2024-09-27T22:04:46.834322",
     "status": "completed"
    },
    "tags": []
   },
   "outputs": [],
   "source": [
    "X = df.drop(['Y1', 'Y2'], axis=1)  \n",
    "y1 = df['Y1']  # Isıtma yükü (Y1)\n",
    "y2 = df['Y2']  # Soğutma yükü (Y2)"
   ]
  },
  {
   "cell_type": "code",
   "execution_count": 6,
   "id": "123f40e4",
   "metadata": {
    "execution": {
     "iopub.execute_input": "2024-09-27T22:04:46.872492Z",
     "iopub.status.busy": "2024-09-27T22:04:46.872087Z",
     "iopub.status.idle": "2024-09-27T22:04:46.882451Z",
     "shell.execute_reply": "2024-09-27T22:04:46.881183Z"
    },
    "papermill": {
     "duration": 0.020726,
     "end_time": "2024-09-27T22:04:46.885010",
     "exception": false,
     "start_time": "2024-09-27T22:04:46.864284",
     "status": "completed"
    },
    "tags": []
   },
   "outputs": [],
   "source": [
    "X_train, X_test, y1_train, y1_test = train_test_split(X, y1, test_size=0.2, random_state=42)"
   ]
  },
  {
   "cell_type": "code",
   "execution_count": 7,
   "id": "c3710f95",
   "metadata": {
    "execution": {
     "iopub.execute_input": "2024-09-27T22:04:46.899463Z",
     "iopub.status.busy": "2024-09-27T22:04:46.899018Z",
     "iopub.status.idle": "2024-09-27T22:04:47.204779Z",
     "shell.execute_reply": "2024-09-27T22:04:47.203448Z"
    },
    "papermill": {
     "duration": 0.316088,
     "end_time": "2024-09-27T22:04:47.207605",
     "exception": false,
     "start_time": "2024-09-27T22:04:46.891517",
     "status": "completed"
    },
    "tags": []
   },
   "outputs": [
    {
     "data": {
      "text/html": [
       "<style>#sk-container-id-1 {color: black;background-color: white;}#sk-container-id-1 pre{padding: 0;}#sk-container-id-1 div.sk-toggleable {background-color: white;}#sk-container-id-1 label.sk-toggleable__label {cursor: pointer;display: block;width: 100%;margin-bottom: 0;padding: 0.3em;box-sizing: border-box;text-align: center;}#sk-container-id-1 label.sk-toggleable__label-arrow:before {content: \"▸\";float: left;margin-right: 0.25em;color: #696969;}#sk-container-id-1 label.sk-toggleable__label-arrow:hover:before {color: black;}#sk-container-id-1 div.sk-estimator:hover label.sk-toggleable__label-arrow:before {color: black;}#sk-container-id-1 div.sk-toggleable__content {max-height: 0;max-width: 0;overflow: hidden;text-align: left;background-color: #f0f8ff;}#sk-container-id-1 div.sk-toggleable__content pre {margin: 0.2em;color: black;border-radius: 0.25em;background-color: #f0f8ff;}#sk-container-id-1 input.sk-toggleable__control:checked~div.sk-toggleable__content {max-height: 200px;max-width: 100%;overflow: auto;}#sk-container-id-1 input.sk-toggleable__control:checked~label.sk-toggleable__label-arrow:before {content: \"▾\";}#sk-container-id-1 div.sk-estimator input.sk-toggleable__control:checked~label.sk-toggleable__label {background-color: #d4ebff;}#sk-container-id-1 div.sk-label input.sk-toggleable__control:checked~label.sk-toggleable__label {background-color: #d4ebff;}#sk-container-id-1 input.sk-hidden--visually {border: 0;clip: rect(1px 1px 1px 1px);clip: rect(1px, 1px, 1px, 1px);height: 1px;margin: -1px;overflow: hidden;padding: 0;position: absolute;width: 1px;}#sk-container-id-1 div.sk-estimator {font-family: monospace;background-color: #f0f8ff;border: 1px dotted black;border-radius: 0.25em;box-sizing: border-box;margin-bottom: 0.5em;}#sk-container-id-1 div.sk-estimator:hover {background-color: #d4ebff;}#sk-container-id-1 div.sk-parallel-item::after {content: \"\";width: 100%;border-bottom: 1px solid gray;flex-grow: 1;}#sk-container-id-1 div.sk-label:hover label.sk-toggleable__label {background-color: #d4ebff;}#sk-container-id-1 div.sk-serial::before {content: \"\";position: absolute;border-left: 1px solid gray;box-sizing: border-box;top: 0;bottom: 0;left: 50%;z-index: 0;}#sk-container-id-1 div.sk-serial {display: flex;flex-direction: column;align-items: center;background-color: white;padding-right: 0.2em;padding-left: 0.2em;position: relative;}#sk-container-id-1 div.sk-item {position: relative;z-index: 1;}#sk-container-id-1 div.sk-parallel {display: flex;align-items: stretch;justify-content: center;background-color: white;position: relative;}#sk-container-id-1 div.sk-item::before, #sk-container-id-1 div.sk-parallel-item::before {content: \"\";position: absolute;border-left: 1px solid gray;box-sizing: border-box;top: 0;bottom: 0;left: 50%;z-index: -1;}#sk-container-id-1 div.sk-parallel-item {display: flex;flex-direction: column;z-index: 1;position: relative;background-color: white;}#sk-container-id-1 div.sk-parallel-item:first-child::after {align-self: flex-end;width: 50%;}#sk-container-id-1 div.sk-parallel-item:last-child::after {align-self: flex-start;width: 50%;}#sk-container-id-1 div.sk-parallel-item:only-child::after {width: 0;}#sk-container-id-1 div.sk-dashed-wrapped {border: 1px dashed gray;margin: 0 0.4em 0.5em 0.4em;box-sizing: border-box;padding-bottom: 0.4em;background-color: white;}#sk-container-id-1 div.sk-label label {font-family: monospace;font-weight: bold;display: inline-block;line-height: 1.2em;}#sk-container-id-1 div.sk-label-container {text-align: center;}#sk-container-id-1 div.sk-container {/* jupyter's `normalize.less` sets `[hidden] { display: none; }` but bootstrap.min.css set `[hidden] { display: none !important; }` so we also need the `!important` here to be able to override the default hidden behavior on the sphinx rendered scikit-learn.org. See: https://github.com/scikit-learn/scikit-learn/issues/21755 */display: inline-block !important;position: relative;}#sk-container-id-1 div.sk-text-repr-fallback {display: none;}</style><div id=\"sk-container-id-1\" class=\"sk-top-container\"><div class=\"sk-text-repr-fallback\"><pre>RandomForestRegressor(random_state=42)</pre><b>In a Jupyter environment, please rerun this cell to show the HTML representation or trust the notebook. <br />On GitHub, the HTML representation is unable to render, please try loading this page with nbviewer.org.</b></div><div class=\"sk-container\" hidden><div class=\"sk-item\"><div class=\"sk-estimator sk-toggleable\"><input class=\"sk-toggleable__control sk-hidden--visually\" id=\"sk-estimator-id-1\" type=\"checkbox\" checked><label for=\"sk-estimator-id-1\" class=\"sk-toggleable__label sk-toggleable__label-arrow\">RandomForestRegressor</label><div class=\"sk-toggleable__content\"><pre>RandomForestRegressor(random_state=42)</pre></div></div></div></div></div>"
      ],
      "text/plain": [
       "RandomForestRegressor(random_state=42)"
      ]
     },
     "execution_count": 7,
     "metadata": {},
     "output_type": "execute_result"
    }
   ],
   "source": [
    "rf_model = RandomForestRegressor(random_state=42)\n",
    "rf_model.fit(X_train, y1_train)"
   ]
  },
  {
   "cell_type": "code",
   "execution_count": 8,
   "id": "a481941e",
   "metadata": {
    "execution": {
     "iopub.execute_input": "2024-09-27T22:04:47.222441Z",
     "iopub.status.busy": "2024-09-27T22:04:47.221998Z",
     "iopub.status.idle": "2024-09-27T22:04:47.239268Z",
     "shell.execute_reply": "2024-09-27T22:04:47.238098Z"
    },
    "papermill": {
     "duration": 0.028324,
     "end_time": "2024-09-27T22:04:47.242321",
     "exception": false,
     "start_time": "2024-09-27T22:04:47.213997",
     "status": "completed"
    },
    "tags": []
   },
   "outputs": [],
   "source": [
    "y1_pred = rf_model.predict(X_test)"
   ]
  },
  {
   "cell_type": "code",
   "execution_count": 9,
   "id": "087199c0",
   "metadata": {
    "execution": {
     "iopub.execute_input": "2024-09-27T22:04:47.257951Z",
     "iopub.status.busy": "2024-09-27T22:04:47.257473Z",
     "iopub.status.idle": "2024-09-27T22:04:47.278610Z",
     "shell.execute_reply": "2024-09-27T22:04:47.277232Z"
    },
    "papermill": {
     "duration": 0.032521,
     "end_time": "2024-09-27T22:04:47.281471",
     "exception": false,
     "start_time": "2024-09-27T22:04:47.248950",
     "status": "completed"
    },
    "tags": []
   },
   "outputs": [
    {
     "name": "stdout",
     "output_type": "stream",
     "text": [
      "Mean Squared Error (Isıtma Yükü): 0.24088222909090704\n",
      "R^2 Score (Isıtma Yükü): 0.9976889700896121\n",
      "Model Score (Isıtma Yükü): 0.9976889700896121\n"
     ]
    }
   ],
   "source": [
    "mse = mean_squared_error(y1_test, y1_pred)\n",
    "r2 = r2_score(y1_test, y1_pred)\n",
    "model_score = rf_model.score(X_test, y1_test)\n",
    "\n",
    "print(f\"Mean Squared Error (Isıtma Yükü): {mse}\")\n",
    "print(f\"R^2 Score (Isıtma Yükü): {r2}\")\n",
    "print(f\"Model Score (Isıtma Yükü): {model_score}\")"
   ]
  },
  {
   "cell_type": "code",
   "execution_count": 10,
   "id": "eb0f4912",
   "metadata": {
    "execution": {
     "iopub.execute_input": "2024-09-27T22:04:47.296546Z",
     "iopub.status.busy": "2024-09-27T22:04:47.296099Z",
     "iopub.status.idle": "2024-09-27T22:04:47.304454Z",
     "shell.execute_reply": "2024-09-27T22:04:47.303229Z"
    },
    "papermill": {
     "duration": 0.019099,
     "end_time": "2024-09-27T22:04:47.307293",
     "exception": false,
     "start_time": "2024-09-27T22:04:47.288194",
     "status": "completed"
    },
    "tags": []
   },
   "outputs": [],
   "source": [
    "# Aynı işlemleri soğutma yükü (Y2) için yapma\n",
    "\n",
    "X_train, X_test, y2_train, y2_test = train_test_split(X, y2, test_size=0.2, random_state=42)"
   ]
  },
  {
   "cell_type": "code",
   "execution_count": 11,
   "id": "dcf82dd8",
   "metadata": {
    "execution": {
     "iopub.execute_input": "2024-09-27T22:04:47.324011Z",
     "iopub.status.busy": "2024-09-27T22:04:47.323469Z",
     "iopub.status.idle": "2024-09-27T22:04:47.626183Z",
     "shell.execute_reply": "2024-09-27T22:04:47.625020Z"
    },
    "papermill": {
     "duration": 0.314239,
     "end_time": "2024-09-27T22:04:47.629486",
     "exception": false,
     "start_time": "2024-09-27T22:04:47.315247",
     "status": "completed"
    },
    "tags": []
   },
   "outputs": [
    {
     "data": {
      "text/html": [
       "<style>#sk-container-id-2 {color: black;background-color: white;}#sk-container-id-2 pre{padding: 0;}#sk-container-id-2 div.sk-toggleable {background-color: white;}#sk-container-id-2 label.sk-toggleable__label {cursor: pointer;display: block;width: 100%;margin-bottom: 0;padding: 0.3em;box-sizing: border-box;text-align: center;}#sk-container-id-2 label.sk-toggleable__label-arrow:before {content: \"▸\";float: left;margin-right: 0.25em;color: #696969;}#sk-container-id-2 label.sk-toggleable__label-arrow:hover:before {color: black;}#sk-container-id-2 div.sk-estimator:hover label.sk-toggleable__label-arrow:before {color: black;}#sk-container-id-2 div.sk-toggleable__content {max-height: 0;max-width: 0;overflow: hidden;text-align: left;background-color: #f0f8ff;}#sk-container-id-2 div.sk-toggleable__content pre {margin: 0.2em;color: black;border-radius: 0.25em;background-color: #f0f8ff;}#sk-container-id-2 input.sk-toggleable__control:checked~div.sk-toggleable__content {max-height: 200px;max-width: 100%;overflow: auto;}#sk-container-id-2 input.sk-toggleable__control:checked~label.sk-toggleable__label-arrow:before {content: \"▾\";}#sk-container-id-2 div.sk-estimator input.sk-toggleable__control:checked~label.sk-toggleable__label {background-color: #d4ebff;}#sk-container-id-2 div.sk-label input.sk-toggleable__control:checked~label.sk-toggleable__label {background-color: #d4ebff;}#sk-container-id-2 input.sk-hidden--visually {border: 0;clip: rect(1px 1px 1px 1px);clip: rect(1px, 1px, 1px, 1px);height: 1px;margin: -1px;overflow: hidden;padding: 0;position: absolute;width: 1px;}#sk-container-id-2 div.sk-estimator {font-family: monospace;background-color: #f0f8ff;border: 1px dotted black;border-radius: 0.25em;box-sizing: border-box;margin-bottom: 0.5em;}#sk-container-id-2 div.sk-estimator:hover {background-color: #d4ebff;}#sk-container-id-2 div.sk-parallel-item::after {content: \"\";width: 100%;border-bottom: 1px solid gray;flex-grow: 1;}#sk-container-id-2 div.sk-label:hover label.sk-toggleable__label {background-color: #d4ebff;}#sk-container-id-2 div.sk-serial::before {content: \"\";position: absolute;border-left: 1px solid gray;box-sizing: border-box;top: 0;bottom: 0;left: 50%;z-index: 0;}#sk-container-id-2 div.sk-serial {display: flex;flex-direction: column;align-items: center;background-color: white;padding-right: 0.2em;padding-left: 0.2em;position: relative;}#sk-container-id-2 div.sk-item {position: relative;z-index: 1;}#sk-container-id-2 div.sk-parallel {display: flex;align-items: stretch;justify-content: center;background-color: white;position: relative;}#sk-container-id-2 div.sk-item::before, #sk-container-id-2 div.sk-parallel-item::before {content: \"\";position: absolute;border-left: 1px solid gray;box-sizing: border-box;top: 0;bottom: 0;left: 50%;z-index: -1;}#sk-container-id-2 div.sk-parallel-item {display: flex;flex-direction: column;z-index: 1;position: relative;background-color: white;}#sk-container-id-2 div.sk-parallel-item:first-child::after {align-self: flex-end;width: 50%;}#sk-container-id-2 div.sk-parallel-item:last-child::after {align-self: flex-start;width: 50%;}#sk-container-id-2 div.sk-parallel-item:only-child::after {width: 0;}#sk-container-id-2 div.sk-dashed-wrapped {border: 1px dashed gray;margin: 0 0.4em 0.5em 0.4em;box-sizing: border-box;padding-bottom: 0.4em;background-color: white;}#sk-container-id-2 div.sk-label label {font-family: monospace;font-weight: bold;display: inline-block;line-height: 1.2em;}#sk-container-id-2 div.sk-label-container {text-align: center;}#sk-container-id-2 div.sk-container {/* jupyter's `normalize.less` sets `[hidden] { display: none; }` but bootstrap.min.css set `[hidden] { display: none !important; }` so we also need the `!important` here to be able to override the default hidden behavior on the sphinx rendered scikit-learn.org. See: https://github.com/scikit-learn/scikit-learn/issues/21755 */display: inline-block !important;position: relative;}#sk-container-id-2 div.sk-text-repr-fallback {display: none;}</style><div id=\"sk-container-id-2\" class=\"sk-top-container\"><div class=\"sk-text-repr-fallback\"><pre>RandomForestRegressor(random_state=42)</pre><b>In a Jupyter environment, please rerun this cell to show the HTML representation or trust the notebook. <br />On GitHub, the HTML representation is unable to render, please try loading this page with nbviewer.org.</b></div><div class=\"sk-container\" hidden><div class=\"sk-item\"><div class=\"sk-estimator sk-toggleable\"><input class=\"sk-toggleable__control sk-hidden--visually\" id=\"sk-estimator-id-2\" type=\"checkbox\" checked><label for=\"sk-estimator-id-2\" class=\"sk-toggleable__label sk-toggleable__label-arrow\">RandomForestRegressor</label><div class=\"sk-toggleable__content\"><pre>RandomForestRegressor(random_state=42)</pre></div></div></div></div></div>"
      ],
      "text/plain": [
       "RandomForestRegressor(random_state=42)"
      ]
     },
     "execution_count": 11,
     "metadata": {},
     "output_type": "execute_result"
    }
   ],
   "source": [
    "rf_model.fit(X_train, y2_train)"
   ]
  },
  {
   "cell_type": "code",
   "execution_count": 12,
   "id": "919c9f8f",
   "metadata": {
    "execution": {
     "iopub.execute_input": "2024-09-27T22:04:47.645556Z",
     "iopub.status.busy": "2024-09-27T22:04:47.645115Z",
     "iopub.status.idle": "2024-09-27T22:04:47.661232Z",
     "shell.execute_reply": "2024-09-27T22:04:47.659958Z"
    },
    "papermill": {
     "duration": 0.027801,
     "end_time": "2024-09-27T22:04:47.664124",
     "exception": false,
     "start_time": "2024-09-27T22:04:47.636323",
     "status": "completed"
    },
    "tags": []
   },
   "outputs": [],
   "source": [
    "y2_pred = rf_model.predict(X_test)"
   ]
  },
  {
   "cell_type": "code",
   "execution_count": 13,
   "id": "a484f2e6",
   "metadata": {
    "execution": {
     "iopub.execute_input": "2024-09-27T22:04:47.679868Z",
     "iopub.status.busy": "2024-09-27T22:04:47.679382Z",
     "iopub.status.idle": "2024-09-27T22:04:47.700533Z",
     "shell.execute_reply": "2024-09-27T22:04:47.699272Z"
    },
    "papermill": {
     "duration": 0.032329,
     "end_time": "2024-09-27T22:04:47.703382",
     "exception": false,
     "start_time": "2024-09-27T22:04:47.671053",
     "status": "completed"
    },
    "tags": []
   },
   "outputs": [
    {
     "name": "stdout",
     "output_type": "stream",
     "text": [
      "Mean Squared Error (Soğutma Yükü): 2.9340964745454556\n",
      "R^2 Score (Soğutma Yükü): 0.9683338660414131\n",
      "Model Score (Soğutma Yükü): 0.9683338660414131\n"
     ]
    }
   ],
   "source": [
    "mse2 = mean_squared_error(y2_test, y2_pred)\n",
    "r2_2 = r2_score(y2_test, y2_pred)\n",
    "model_score = rf_model.score(X_test, y2_test)\n",
    "\n",
    "print(f\"Mean Squared Error (Soğutma Yükü): {mse2}\")\n",
    "print(f\"R^2 Score (Soğutma Yükü): {r2_2}\")\n",
    "print(f\"Model Score (Soğutma Yükü): {model_score}\")"
   ]
  },
  {
   "cell_type": "code",
   "execution_count": null,
   "id": "3bacad79",
   "metadata": {
    "papermill": {
     "duration": 0.006414,
     "end_time": "2024-09-27T22:04:47.716624",
     "exception": false,
     "start_time": "2024-09-27T22:04:47.710210",
     "status": "completed"
    },
    "tags": []
   },
   "outputs": [],
   "source": []
  }
 ],
 "metadata": {
  "kaggle": {
   "accelerator": "none",
   "dataSources": [
    {
     "datasetId": 2319,
     "sourceId": 3917,
     "sourceType": "datasetVersion"
    }
   ],
   "dockerImageVersionId": 30775,
   "isGpuEnabled": false,
   "isInternetEnabled": true,
   "language": "python",
   "sourceType": "notebook"
  },
  "kernelspec": {
   "display_name": "Python 3",
   "language": "python",
   "name": "python3"
  },
  "language_info": {
   "codemirror_mode": {
    "name": "ipython",
    "version": 3
   },
   "file_extension": ".py",
   "mimetype": "text/x-python",
   "name": "python",
   "nbconvert_exporter": "python",
   "pygments_lexer": "ipython3",
   "version": "3.10.14"
  },
  "papermill": {
   "default_parameters": {},
   "duration": 7.696266,
   "end_time": "2024-09-27T22:04:48.446313",
   "environment_variables": {},
   "exception": null,
   "input_path": "__notebook__.ipynb",
   "output_path": "__notebook__.ipynb",
   "parameters": {},
   "start_time": "2024-09-27T22:04:40.750047",
   "version": "2.6.0"
  }
 },
 "nbformat": 4,
 "nbformat_minor": 5
}
