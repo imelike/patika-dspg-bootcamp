{
 "cells": [
  {
   "cell_type": "markdown",
   "source": [
    "1- Bir listeyi düzleştiren (flatten) fonksiyon yazın. Elemanları birden çok katmanlı listelerden ([[3],2] gibi) oluşabileceği gibi, non-scalar verilerden de oluşabilir. Örnek olarak:\n",
    "\n",
    "input: [[1,'a',['cat'],2],[[[3]],'dog'],4,5]\n",
    "\n",
    "output: [1,'a','cat',2,3,'dog',4,5]"
   ],
   "metadata": {
    "collapsed": false
   },
   "id": "af0395d911300863"
  },
  {
   "cell_type": "code",
   "outputs": [
    {
     "name": "stdout",
     "output_type": "stream",
     "text": [
      "[1, 'a', 'cat', 2, 3, 'dog', 4, 5]\n"
     ]
    }
   ],
   "source": [
    "def flatten(input_list):\n",
    "    result = []  # Düzleştirilmiş sonuçları tutacak liste\n",
    "\n",
    "    for item in input_list:  # Her bir elemanı kontrol et\n",
    "        if isinstance(item, list):  # Eğer eleman bir listeyse\n",
    "            result.extend(flatten(item))  # Rekürsif olarak düzleştir\n",
    "        else:  # Eğer eleman non-scalar ise\n",
    "            result.append(item)  # Sonuç listesine ekle\n",
    "\n",
    "    return result  # Düzleştirilmiş listeyi döndür\n",
    "\n",
    "# Örnek kullanım\n",
    "input_data = [[1, 'a', ['cat'], 2], [3, 'dog'], 4, 5]\n",
    "output_data = flatten(input_data)\n",
    "print(output_data)  # Çıktı: [1, 'a', 'cat', 2, 3, 'dog', 4, 5]\n"
   ],
   "metadata": {
    "collapsed": true,
    "ExecuteTime": {
     "end_time": "2024-09-24T12:57:57.282382600Z",
     "start_time": "2024-09-24T12:57:57.266847Z"
    }
   },
   "id": "initial_id",
   "execution_count": 1
  },
  {
   "cell_type": "raw",
   "source": [
    "2- Verilen listenin içindeki elemanları tersine döndüren bir fonksiyon yazın. Eğer listenin içindeki elemanlar da liste içeriyorsa onların elemanlarını da tersine döndürün. Örnek olarak:\n",
    "\n",
    "input: [[1, 2], [3, 4], [5, 6, 7]]\n",
    "\n",
    "output: [[[7, 6, 5], [4, 3], [2, 1]]"
   ],
   "metadata": {
    "collapsed": false
   },
   "id": "352d62c012f5e6ae"
  },
  {
   "cell_type": "code",
   "outputs": [],
   "source": [
    "def reverse_nested_list(input_list):\n",
    "    # Listeyi tersine döndür\n",
    "    reversed_list = []\n",
    "    \n",
    "    for item in reversed(input_list):  # Dış listeyi ters çevir\n",
    "        if isinstance(item, list):  # Eğer eleman bir listeyse\n",
    "            reversed_list.append(reverse_nested_list(item))  # Rekürsif olarak ters çevir\n",
    "        else:\n",
    "            reversed_list.append(item)  # Eleman bir liste değilse olduğu gibi ekle\n",
    "            \n",
    "    return reversed_list  # Tersine döndürülmüş listeyi döndür"
   ],
   "metadata": {
    "collapsed": false,
    "ExecuteTime": {
     "end_time": "2024-09-24T13:04:48.060055300Z",
     "start_time": "2024-09-24T13:04:48.055187500Z"
    }
   },
   "id": "6a2d3e2eaacea672",
   "execution_count": 13
  },
  {
   "cell_type": "code",
   "outputs": [
    {
     "name": "stdout",
     "output_type": "stream",
     "text": [
      "[[7, 6, 5], [4, 3], [2, 1]]\n"
     ]
    }
   ],
   "source": [
    "# Örnek kullanım\n",
    "input_data = [[1, 2], [3, 4], [5, 6, 7]]\n",
    "output_data = reverse_nested_list(input_data)\n",
    "print(output_data)  # Çıktı: [[[7, 6, 5], [4, 3], [2, 1]]]"
   ],
   "metadata": {
    "collapsed": false,
    "ExecuteTime": {
     "end_time": "2024-09-24T13:04:48.554420300Z",
     "start_time": "2024-09-24T13:04:48.544808800Z"
    }
   },
   "id": "819697ca9ec8312a",
   "execution_count": 14
  },
  {
   "cell_type": "code",
   "outputs": [],
   "source": [],
   "metadata": {
    "collapsed": false
   },
   "id": "a6a068fa53e5524d"
  }
 ],
 "metadata": {
  "kernelspec": {
   "display_name": "Python 3",
   "language": "python",
   "name": "python3"
  },
  "language_info": {
   "codemirror_mode": {
    "name": "ipython",
    "version": 2
   },
   "file_extension": ".py",
   "mimetype": "text/x-python",
   "name": "python",
   "nbconvert_exporter": "python",
   "pygments_lexer": "ipython2",
   "version": "2.7.6"
  }
 },
 "nbformat": 4,
 "nbformat_minor": 5
}
