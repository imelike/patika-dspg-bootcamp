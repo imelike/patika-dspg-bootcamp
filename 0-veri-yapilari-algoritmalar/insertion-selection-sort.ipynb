{
 "metadata": {
  "kernelspec": {
   "language": "python",
   "display_name": "Python 3",
   "name": "python3"
  },
  "language_info": {
   "name": "python",
   "version": "3.10.14",
   "mimetype": "text/x-python",
   "codemirror_mode": {
    "name": "ipython",
    "version": 3
   },
   "pygments_lexer": "ipython3",
   "nbconvert_exporter": "python",
   "file_extension": ".py"
  },
  "kaggle": {
   "accelerator": "none",
   "dataSources": [],
   "dockerImageVersionId": 30761,
   "isInternetEnabled": true,
   "language": "python",
   "sourceType": "notebook",
   "isGpuEnabled": false
  }
 },
 "nbformat_minor": 4,
 "nbformat": 4,
 "cells": [
  {
   "cell_type": "code",
   "source": [
    "# This Python 3 environment comes with many helpful analytics libraries installed\n",
    "# It is defined by the kaggle/python Docker image: https://github.com/kaggle/docker-python\n",
    "# For example, here's several helpful packages to load\n",
    "\n",
    "import numpy as np # linear algebra\n",
    "import pandas as pd # data processing, CSV file I/O (e.g. pd.read_csv)\n",
    "\n",
    "# Input data files are available in the read-only \"../input/\" directory\n",
    "# For example, running this (by clicking run or pressing Shift+Enter) will list all files under the input directory\n",
    "\n",
    "import os\n",
    "for dirname, _, filenames in os.walk('/kaggle/input'):\n",
    "    for filename in filenames:\n",
    "        print(os.path.join(dirname, filename))\n",
    "\n",
    "# You can write up to 20GB to the current directory (/kaggle/working/) that gets preserved as output when you create a version using \"Save & Run All\" \n",
    "# You can also write temporary files to /kaggle/temp/, but they won't be saved outside of the current session"
   ],
   "metadata": {
    "_uuid": "8f2839f25d086af736a60e9eeb907d3b93b6e0e5",
    "_cell_guid": "b1076dfc-b9ad-4769-8c92-a6c4dae69d19",
    "execution": {
     "iopub.status.busy": "2024-09-23T13:37:42.360781Z",
     "iopub.execute_input": "2024-09-23T13:37:42.362268Z",
     "iopub.status.idle": "2024-09-23T13:37:42.943956Z",
     "shell.execute_reply.started": "2024-09-23T13:37:42.362208Z",
     "shell.execute_reply": "2024-09-23T13:37:42.942290Z"
    },
    "trusted": true
   },
   "execution_count": 1,
   "outputs": []
  },
  {
   "cell_type": "markdown",
   "source": [
    "# Proje 1\n",
    "\n",
    "### 1) [22,27,16,2,18,6] -> Insertion Sort\n",
    "\n",
    "Yukarı verilen dizinin sort türüne göre aşamalarını yazınız.\n",
    "\n",
    "Big-O gösterimini yazınız.\n",
    "\n",
    "Time Complexity: Dizi sıralandıktan sonra 18 sayısı aşağıdaki case'lerden hangisinin kapsamına girer? Yazınız\n",
    "\n",
    "* Average case: Aradığımız sayının ortada olması\n",
    "* Worst case: Aradığımız sayının sonda olması\n",
    "* Best case: Aradığımız sayının dizinin en başında olması.\n",
    "\n",
    "### 2) [7,3,5,8,2,9,4,15,6] dizisinin Selection Sort'a göre ilk 4 adımını yazınız."
   ],
   "metadata": {}
  },
  {
   "cell_type": "markdown",
   "source": [
    "## 1) Insertion Sort - Aşamalar\n",
    "\n",
    "İlk eleman olan 22 zaten sıralı kabul edilir.\n",
    "\n",
    "Dizi: [22, 27, 16, 2, 18, 6]\n",
    "27 elemanı ikinci sıradadır ve 22'den büyüktür. Herhangi bir işlem yapılmaz.\n",
    "\n",
    "Dizi: [22, 27, 16, 2, 18, 6]\n",
    "16 elemanına gelindiğinde, 16 elemanı, 27 ve 22'den küçüktür. Bu nedenle 16 elemanı doğru pozisyona taşınır:\n",
    "\n",
    "Dizi: [16, 22, 27, 2, 18, 6]\n",
    "2 elemanına gelindiğinde, 2, dizideki tüm elemanlardan küçüktür, bu yüzden başa taşınır:\n",
    "\n",
    "Dizi: [2, 16, 22, 27, 18, 6]\n",
    "18 elemanı sırasıyla kontrol edilir. 18, 27'den küçüktür ancak 22'den büyüktür, bu yüzden 18, doğru pozisyona taşınır:\n",
    "\n",
    "Dizi: [2, 16, 18, 22, 27, 6]\n",
    "6 elemanı sırasıyla kontrol edilir. 6, dizideki her elemandan küçüktür, bu yüzden başa yakın bir pozisyona taşınır:\n",
    "\n",
    "Dizi: [2, 6, 16, 18, 22, 27]\n",
    "\n",
    "**Sonuç: [2, 6, 16, 18, 22, 27]**\n",
    "\n",
    "\n",
    "## Insertion Sort Big-O Gösterimi\n",
    "* Best case (en iyi durum): O(n)\n",
    "Dizi zaten sıralıysa, her eleman sadece bir kez kontrol edilir ve bu nedenle zaman karmaşıklığı O(n) olur.\n",
    "\n",
    "* Average case (ortalama durum): O(n²)\n",
    "Genel durumda, her eleman sıralanırken yerini bulmak için ortalama olarak dizinin yarısı kadar elemanla karşılaştırılır. Bu da her eleman için O(n/2) karşılaştırma yapılacağı anlamına gelir ve genel karmaşıklık O(n²) olur.\n",
    "\n",
    "* Worst case (en kötü durum): O(n²)\n",
    "Eğer dizi ters sıralıysa, her eleman en başa yerleştirileceği için her adımda tüm önceki elemanlarla karşılaştırma yapılır, bu da O(n²) zaman alır.\n",
    "\n",
    "## 18 Sayısı İçin Time Complexity Durumu\n",
    "\n",
    "18 sayısı, dizide beşinci sırada yer almakta. İlk 4 elemanla karşılaştırıldıktan sonra yerine yerleştirildi. Bu nedenle, aradığımız 18 sayısı average case (ortalama durum) için örnek teşkil eder. Çünkü, ne dizinin başında ne de sonundaydı; ortalarda bir yerde yer aldı.\n"
   ],
   "metadata": {}
  },
  {
   "cell_type": "markdown",
   "source": [
    "## 2) Selection Sort uygulaması\n",
    "\n",
    "Verilen diziyi selection sort algoritması ile sıralayalım. Selection sort her adımda dizinin geri kalanından en küçük elemanı seçer ve yer değiştirir.\n",
    "\n",
    "\n",
    "1. Adım: En küçük elemanın seçilmesi ve yerine yerleştirilmesi\n",
    "Dizinin tamamı taranır. En küçük eleman 2’dir ve 4. pozisyondadır.\n",
    "2, ilk eleman olan 7 ile yer değiştirilir. [2, 3, 5, 8, 7, 9, 4, 15, 6]\n",
    "\n",
    "2. Adım: İkinci en küçük elemanın seçilmesi\n",
    "Geri kalan dizi (3, 5, 8, 7, 9, 4, 15, 6) taranır. En küçük eleman 3’tür ve zaten 2. pozisyondadır.\n",
    "Herhangi bir değişiklik yapılmaz. [2, 3, 5, 8, 7, 9, 4, 15, 6]\n",
    "\n",
    "3. Adım: Üçüncü en küçük elemanın seçilmesi\n",
    "Geri kalan dizi (5, 8, 7, 9, 4, 15, 6) taranır. En küçük eleman 4’tür ve 6. pozisyondadır.\n",
    "4, 5 ile yer değiştirilir. [2, 3, 4, 8, 7, 9, 5, 15, 6]\n",
    "\n",
    "4. Adım: Dördüncü en küçük elemanın seçilmesi\n",
    "Geri kalan dizi (8, 7, 9, 5, 15, 6) taranır. En küçük eleman 5’tir ve 7. pozisyondadır.\n",
    "5, 8 ile yer değiştirilir. [2, 3, 4, 5, 7, 9, 8, 15, 6]\n",
    "\n",
    "**İlk 4 adım sonunda dizi: [2, 3, 4, 5, 7, 9, 8, 15, 6]**\n"
   ],
   "metadata": {}
  }
 ]
}
