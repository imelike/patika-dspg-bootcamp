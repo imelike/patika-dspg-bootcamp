{
 "cells": [
  {
   "cell_type": "markdown",
   "metadata": {},
   "source": [
    "# Class Tanımlamak\n",
    "---\n",
    "- Fonksiyonlarla belirli fonksiyonalite ifade eden kodları bir araya getirmeyi biliyoruz. **Class** mantığında hem fonksiyonalite hem de veriyi bir arada tutma yoluna bakacağız.\n",
    "- **Class**'ın içerisindeki veri (data)'lara **attribute**, fonksiyonlara **method** diyeceğiz.\n",
    "- Diyelim ki bir iş yeri çalışanlarını kodumuzda ifade etmek istiyoruz. Sanırım bu **class** mantığı ile uyumlu. Her çalışanın farklı farklı özellikleri (**attribute**)'ları ve yaptıkları işleri (**method**) olacak.\n",
    "- Fonksiyonları tanımlarken **def** kullanıyorduk, class yaratırken **class** olarak tanımlayacağız.\n",
    "- **Class**'ın içerisinde **method** yaratırken, classtan yaratılan objeyi ilk arguman olarak alırlar. istediğimiz adı verebiliriz ama genellikle **self** olarak adlandırılır.\n",
    "---\n",
    "\n",
    "### Attribute"
   ]
  },
  {
   "cell_type": "code",
   "execution_count": 1,
   "metadata": {},
   "outputs": [
    {
     "ename": "SyntaxError",
     "evalue": "incomplete input (3505898793.py, line 1)",
     "output_type": "error",
     "traceback": [
      "\u001B[0;36m  Cell \u001B[0;32mIn [1], line 1\u001B[0;36m\u001B[0m\n\u001B[0;31m    class Employee:\u001B[0m\n\u001B[0m                   ^\u001B[0m\n\u001B[0;31mSyntaxError\u001B[0m\u001B[0;31m:\u001B[0m incomplete input\n"
     ]
    }
   ],
   "source": [
    "# class'ın yaratılması\n",
    "class Employee:"
   ]
  },
  {
   "cell_type": "code",
   "execution_count": 2,
   "metadata": {},
   "outputs": [],
   "source": [
    "# boş class'ın hata vermemesi için pass eklenir\n",
    "class Employee:\n",
    "    pass"
   ]
  },
  {
   "cell_type": "code",
   "execution_count": 10,
   "metadata": {},
   "outputs": [
    {
     "data": {
      "text/plain": "<__main__.Employee at 0x29c525f3bb0>"
     },
     "execution_count": 10,
     "metadata": {},
     "output_type": "execute_result"
    }
   ],
   "source": [
    "# e objesini Employee class'ını kullanarak yarat\n",
    "e = Employee()\n",
    "e"
   ]
  },
  {
   "cell_type": "code",
   "execution_count": 11,
   "metadata": {},
   "outputs": [
    {
     "data": {
      "text/plain": "4"
     },
     "execution_count": 11,
     "metadata": {},
     "output_type": "execute_result"
    }
   ],
   "source": [
    "# e objesine \"a\" attribute tanımlamış olduk.\n",
    "e.a = 4\n",
    "e.a"
   ]
  },
  {
   "cell_type": "markdown",
   "metadata": {},
   "source": [
    "Böyle tek tek **attribute** tanımlamak yerine en başta oluştururken de **attribute**'ları verebiliriz.\n",
    "Bazı special metotlar var bumlara magic method veya dunder method da denir"
   ]
  },
  {
   "cell_type": "code",
   "execution_count": 14,
   "metadata": {},
   "outputs": [],
   "source": [
    "class Employee:\n",
    "    def __init__(self, name, last, age, pay):\n",
    "        self.name = name #instance variable\n",
    "        self.last = last #instance variable\n",
    "        self.age = age #instance variable\n",
    "        self.pay = pay #instance variable"
   ]
  },
  {
   "cell_type": "markdown",
   "metadata": {},
   "source": [
    "- Class bunlardan **obje**'ler yaratmak için bir kalıptır sadece."
   ]
  },
  {
   "cell_type": "markdown",
   "source": [],
   "metadata": {
    "collapsed": false
   }
  },
  {
   "cell_type": "code",
   "execution_count": 15,
   "metadata": {},
   "outputs": [],
   "source": [
    "# self objesine eklenecek attributelar burdaki inputlar\n",
    "emp_1 = Employee(\"James\", \"Hughes\", 32, 5000)"
   ]
  },
  {
   "cell_type": "markdown",
   "metadata": {},
   "source": [
    "- Yukarıda yarattığımız bir obje oldu. **Employee** class'ının bir objesi. (emp_1)"
   ]
  },
  {
   "cell_type": "code",
   "execution_count": 16,
   "metadata": {},
   "outputs": [],
   "source": [
    "emp_2 = Employee(\"Charlie\", \"Brown\", 22, 3000)"
   ]
  },
  {
   "cell_type": "code",
   "execution_count": 17,
   "metadata": {},
   "outputs": [
    {
     "data": {
      "text/plain": "'James'"
     },
     "execution_count": 17,
     "metadata": {},
     "output_type": "execute_result"
    }
   ],
   "source": [
    "emp_1.name"
   ]
  },
  {
   "cell_type": "markdown",
   "metadata": {},
   "source": [
    "- Burada yarattığımız bütün attribute'lar **instance variable**. Her obje (classtan yaratılan instance), kendine özel attribute'a sahip (iki kişinin adı aynı olabilir, ama hepsi için ayrı bir variable var ve hepsi kendi age attribute'unda tutuyor.)"
   ]
  },
  {
   "cell_type": "markdown",
   "metadata": {},
   "source": [
    "### Method\n",
    "**metot:** class'ların içinde tanımlanan fonksiyonlara denir.\n",
    "**attribute:** class'ların içinde tanımlanan variable'lara denir."
   ]
  },
  {
   "cell_type": "code",
   "execution_count": 18,
   "metadata": {},
   "outputs": [],
   "source": [
    "class Employee:\n",
    "    def __init__(self, name, last, age, pay):\n",
    "        self.name = name\n",
    "        self.last = last\n",
    "        self.age = age\n",
    "        self.pay = pay\n",
    "\n",
    "    def fullName(self):\n",
    "        print(f\"{self.name} {self.last}\")"
   ]
  },
  {
   "cell_type": "code",
   "execution_count": 19,
   "metadata": {},
   "outputs": [],
   "source": [
    "emp_1 = Employee(\"James\", \"Hughes\", 32, 5000)\n",
    "emp_2 = Employee(\"Charlie\", \"Brown\", 22, 3000)"
   ]
  },
  {
   "cell_type": "code",
   "execution_count": 20,
   "metadata": {},
   "outputs": [
    {
     "name": "stdout",
     "output_type": "stream",
     "text": [
      "James Hughes\n"
     ]
    }
   ],
   "source": [
    "emp_1.fullName()"
   ]
  },
  {
   "cell_type": "code",
   "execution_count": 21,
   "metadata": {},
   "outputs": [
    {
     "name": "stdout",
     "output_type": "stream",
     "text": [
      "Charlie Brown\n"
     ]
    }
   ],
   "source": [
    "emp_2.fullName()"
   ]
  },
  {
   "cell_type": "markdown",
   "source": [
    "**Dikkat**\n",
    "otomatik olarak python, class'ın içerisindeki metotlara kendi o anki instane'ın referansını verir. O yüzden class içindeki metotlara self parametresini eklemek zorundayız."
   ],
   "metadata": {
    "collapsed": false
   }
  },
  {
   "cell_type": "markdown",
   "metadata": {},
   "source": [
    "# Class Variable\n",
    "---"
   ]
  },
  {
   "cell_type": "code",
   "execution_count": 1,
   "metadata": {},
   "outputs": [],
   "source": [
    "class Employee:\n",
    "    def __init__(self, name, last, age, pay):\n",
    "        self.name = name\n",
    "        self.lase = last\n",
    "        self.age = age\n",
    "        self.pay = pay"
   ]
  },
  {
   "cell_type": "code",
   "execution_count": 2,
   "metadata": {},
   "outputs": [],
   "source": [
    "# emp1, emp2 objelerine instancelar denir\n",
    "\n",
    "emp_1 = Employee(\"James\", \"Hughes\", 32, 5000)\n",
    "emp_2 = Employee(\"Charlie\", \"Brown\", 22, 3000)"
   ]
  },
  {
   "cell_type": "markdown",
   "metadata": {},
   "source": [
    "- **Instance Variable**: Class'tan yaratılan objelerin kendine özgü değişkenleri. Bu örnekte; **name, last, age, pay** gibi.\n",
    "- **Class Variable**: Class'tan yaratılan tüm objelerde paylaşılan değişkenler.\n",
    "- Instance variable her obje için farklı olabilir, fakat class variable hepsi için aynı olmak zorunda.\n",
    "- Tüm çalışanlar arasında hangi verinin paylaşılmasını isteyebilirim? Mesela şirket herkese aynı yüzdelik zam uyguluyorsa bunun yüzdesini **class variable** olarak tutabilirim."
   ]
  },
  {
   "cell_type": "code",
   "execution_count": 3,
   "metadata": {},
   "outputs": [],
   "source": [
    "class Employee:\n",
    "\n",
    "    # class variable\n",
    "    raise_percent = 1.05\n",
    "\n",
    "    def __init__(self, name, last, age, pay):\n",
    "        self.name = name\n",
    "        self.last = last\n",
    "        self.age = age\n",
    "        self.pay = pay\n",
    "\n",
    "    def apply_raise(self):\n",
    "        self.pay = self.pay * raise_percent  #bu şek. çağırma hatalı"
   ]
  },
  {
   "cell_type": "code",
   "execution_count": 62,
   "metadata": {},
   "outputs": [],
   "source": [
    "emp_1 = Employee(\"James\", \"Hughes\", 32, 5000)\n",
    "emp_2 = Employee(\"Charlie\", \"Brown\", 22, 3000)"
   ]
  },
  {
   "cell_type": "code",
   "execution_count": 63,
   "metadata": {},
   "outputs": [],
   "source": [
    "emp_1.apply_raise()"
   ]
  },
  {
   "cell_type": "markdown",
   "metadata": {},
   "source": [
    "- Class variable'larına ulaşmak için ya genel Class üzerinden ya da o sırada oluşturduğumuz obje üzerinden ulaşmamız lazım."
   ]
  },
  {
   "cell_type": "code",
   "execution_count": 64,
   "metadata": {},
   "outputs": [
    {
     "data": {
      "text/plain": "1.06"
     },
     "execution_count": 64,
     "metadata": {},
     "output_type": "execute_result"
    }
   ],
   "source": [
    "# Class variable'ına emp1 objesi üzerinden eriştim\n",
    "emp_1.raise_percent"
   ]
  },
  {
   "cell_type": "code",
   "execution_count": 65,
   "metadata": {},
   "outputs": [
    {
     "data": {
      "text/plain": "1.06"
     },
     "execution_count": 65,
     "metadata": {},
     "output_type": "execute_result"
    }
   ],
   "source": [
    "Employee.raise_percent"
   ]
  },
  {
   "cell_type": "code",
   "execution_count": 66,
   "metadata": {},
   "outputs": [],
   "source": [
    "class Employee:\n",
    "\n",
    "    # class variable\n",
    "    raise_percent = 1.05\n",
    "\n",
    "    def __init__(self, name, last, age, pay):\n",
    "        self.name = name\n",
    "        self.last = last\n",
    "        self.age = age\n",
    "        self.pay = pay\n",
    "\n",
    "    def apply_raise(self):\n",
    "        self.pay = self.pay * Employee.raise_percent # yada self.raise_percent"
   ]
  },
  {
   "cell_type": "code",
   "execution_count": 68,
   "metadata": {},
   "outputs": [],
   "source": [
    "emp_1 = Employee(\"James\", \"Hughes\", 32, 5000)\n",
    "emp_2 = Employee(\"Charlie\", \"Brown\", 22, 3000)"
   ]
  },
  {
   "cell_type": "code",
   "execution_count": 69,
   "metadata": {},
   "outputs": [
    {
     "data": {
      "text/plain": "5000"
     },
     "execution_count": 69,
     "metadata": {},
     "output_type": "execute_result"
    }
   ],
   "source": [
    "emp_1.pay"
   ]
  },
  {
   "cell_type": "code",
   "execution_count": 70,
   "metadata": {},
   "outputs": [],
   "source": [
    "emp_1.apply_raise()"
   ]
  },
  {
   "cell_type": "code",
   "execution_count": 71,
   "metadata": {},
   "outputs": [
    {
     "data": {
      "text/plain": "5250.0"
     },
     "execution_count": 71,
     "metadata": {},
     "output_type": "execute_result"
    }
   ],
   "source": [
    "emp_1.pay"
   ]
  },
  {
   "cell_type": "markdown",
   "metadata": {},
   "source": [
    "- emp_1.raise_percent >>> ilk olarak bu instance'a bakar, eğer bulamazsa class variable olarak var mı diye bakar."
   ]
  },
  {
   "cell_type": "code",
   "execution_count": 72,
   "metadata": {},
   "outputs": [
    {
     "name": "stdout",
     "output_type": "stream",
     "text": [
      "{'name': 'James', 'last': 'Hughes', 'age': 32, 'pay': 5250.0}\n"
     ]
    }
   ],
   "source": [
    "# objenin attribute larını döndürür\n",
    "print(emp_1.__dict__)"
   ]
  },
  {
   "cell_type": "code",
   "execution_count": 73,
   "metadata": {},
   "outputs": [
    {
     "name": "stdout",
     "output_type": "stream",
     "text": [
      "{'__module__': '__main__', 'raise_percent': 1.05, '__init__': <function Employee.__init__ at 0x00000213ACC970D0>, 'apply_raise': <function Employee.apply_raise at 0x00000213ACCB1040>, '__dict__': <attribute '__dict__' of 'Employee' objects>, '__weakref__': <attribute '__weakref__' of 'Employee' objects>, '__doc__': None}\n"
     ]
    }
   ],
   "source": [
    "print(Employee.__dict__)"
   ]
  },
  {
   "cell_type": "code",
   "execution_count": 74,
   "metadata": {},
   "outputs": [],
   "source": [
    "# emp1 instance'ına experience adında yeni bir attribute ekle\n",
    "emp_1.experience = 10"
   ]
  },
  {
   "cell_type": "code",
   "execution_count": 75,
   "metadata": {},
   "outputs": [
    {
     "name": "stdout",
     "output_type": "stream",
     "text": [
      "{'name': 'James', 'last': 'Hughes', 'age': 32, 'pay': 5250.0, 'experience': 10}\n"
     ]
    }
   ],
   "source": [
    "print(emp_1.__dict__)"
   ]
  },
  {
   "cell_type": "code",
   "execution_count": 76,
   "metadata": {},
   "outputs": [
    {
     "name": "stdout",
     "output_type": "stream",
     "text": [
      "{'name': 'Charlie', 'last': 'Brown', 'age': 22, 'pay': 3000}\n"
     ]
    }
   ],
   "source": [
    "print(emp_2.__dict__)"
   ]
  },
  {
   "cell_type": "markdown",
   "metadata": {},
   "source": [
    "- Class variable'ı **Class üzerinde** güncellersek eğer hepsinde güncellenir."
   ]
  },
  {
   "cell_type": "code",
   "execution_count": 77,
   "metadata": {},
   "outputs": [],
   "source": [
    "# class variable'ı, class üzerinde güncelledik\n",
    "Employee.raise_percent = 1.06"
   ]
  },
  {
   "cell_type": "code",
   "execution_count": 80,
   "outputs": [
    {
     "name": "stdout",
     "output_type": "stream",
     "text": [
      "1.06\n",
      "1.06\n",
      "1.06\n"
     ]
    }
   ],
   "source": [
    "# class üzerinden güncellediğimiz için hepsinde güncellendi\n",
    "print(emp_1.raise_percent)\n",
    "print(emp_2.raise_percent)\n",
    "print(Employee.raise_percent)"
   ],
   "metadata": {
    "collapsed": false
   }
  },
  {
   "cell_type": "markdown",
   "metadata": {},
   "source": [
    "- Class variable'ı **instance (classtan oluşturulan bir obje) üzerinde** güncellemek, sadece o objenin değerini günceller!\n",
    "- Çünkü normalde kendi üzerinde o attribute olmadığı için class'a bakardı ama bu kendisinde o attribute'u yaratıyor."
   ]
  },
  {
   "cell_type": "code",
   "execution_count": 81,
   "outputs": [],
   "source": [
    "emp_1.raise_percent = 1.07"
   ],
   "metadata": {
    "collapsed": false
   }
  },
  {
   "cell_type": "code",
   "execution_count": 83,
   "outputs": [
    {
     "name": "stdout",
     "output_type": "stream",
     "text": [
      "1.07\n",
      "1.06\n",
      "1.05\n"
     ]
    }
   ],
   "source": [
    "# instance üzerinden güncellediğimiz için hepsinde güncellenmez\n",
    "# DİKKAT! emp1'in içerisinde zaten raiase_percent yok emp1'e bu attribute'u ekledim\n",
    "print(emp_1.raise_percent)\n",
    "print(emp_2.raise_percent)\n",
    "print(Employee.raise_percent)"
   ],
   "metadata": {
    "collapsed": false
   }
  },
  {
   "cell_type": "markdown",
   "metadata": {},
   "source": [
    "### Kaç Tane Çalışan Olduğunu Class Variable'ı olarak Tutmak\n",
    "- Her yeni çalışan geldiğinde toplam çalışanı 1 arttırmak istiyorum."
   ]
  },
  {
   "cell_type": "code",
   "execution_count": 88,
   "metadata": {},
   "outputs": [],
   "source": [
    "class Employee:\n",
    "\n",
    "    raise_percent = 1.05\n",
    "    num_emp = 0\n",
    "\n",
    "    def __init__(self, name, last, age, pay):\n",
    "        self.name = name\n",
    "        self.last = last\n",
    "        self.age = age\n",
    "        self.pay = pay\n",
    "        Employee.num_emp += 1\n",
    "\n",
    "    def apply_raise(self):\n",
    "        self.pay = self.pay * self.raise_percent"
   ]
  },
  {
   "cell_type": "code",
   "execution_count": 89,
   "outputs": [
    {
     "data": {
      "text/plain": "0"
     },
     "execution_count": 89,
     "metadata": {},
     "output_type": "execute_result"
    }
   ],
   "source": [
    "# class değişken değeri\n",
    "Employee.num_emp"
   ],
   "metadata": {
    "collapsed": false
   }
  },
  {
   "cell_type": "code",
   "execution_count": 90,
   "metadata": {},
   "outputs": [
    {
     "data": {
      "text/plain": "1"
     },
     "execution_count": 90,
     "metadata": {},
     "output_type": "execute_result"
    }
   ],
   "source": [
    "# obje class'ın def init'ini çalıştırır\n",
    "emp_1 = Employee(\"James\", \"Hughes\", 32, 5000)\n",
    "Employee.num_emp"
   ]
  },
  {
   "cell_type": "code",
   "execution_count": 91,
   "metadata": {},
   "outputs": [
    {
     "data": {
      "text/plain": "2"
     },
     "execution_count": 91,
     "metadata": {},
     "output_type": "execute_result"
    }
   ],
   "source": [
    "emp_2 = Employee(\"Charlie\", \"Brown\", 22, 3000)\n",
    "Employee.num_emp"
   ]
  },
  {
   "cell_type": "markdown",
   "metadata": {},
   "source": [
    "# Class Method\n",
    "---\n",
    "- @classmethod decorator methodu ilk argüman olarak instance almak yerine class'ı alacak şekilde günceller.\n",
    "- class'ta metot oluştururken ilk parametre olarak hep self yazıyorduk çünkü dışarıdan bir instance'a atama yaparken input otomatik olarak veriliyordu.\n",
    "- Peki o an imcelediğimiz instance(ör. emp1) otomatik olarak verilmesin direkt class verilsin istersem ne yaparım?\n",
    "-\n",
    "- @classmethod yazdığım zaman altında yazdığım metot artık ilk input olarak instance'ı almaz, direkt class'ı(Employee) alır.\n",
    "-\n",
    "- Peki neden @classmethodu kullanırım?\n",
    "- class variable değerini dışarıdan değiştirmek için.\n",
    "- Peki yukarıdaki Employee.raise_percent = 1.6'nden farkı ne?\n",
    "- emp1.set_raise(2.3) da yapabilmek için"
   ]
  },
  {
   "cell_type": "code",
   "execution_count": 92,
   "metadata": {},
   "outputs": [],
   "source": [
    "class Employee:\n",
    "\n",
    "    raise_percent = 1.05\n",
    "    num_emp = 0\n",
    "\n",
    "    def __init__(self, name, last, age, pay):\n",
    "        self.name = name\n",
    "        self.last = last\n",
    "        self.age = age\n",
    "        self.pay = pay\n",
    "        Employee.num_emp += 1\n",
    "\n",
    "    def apply_raise (self):\n",
    "        self.pay = self.pay * self.raise_percent\n",
    "\n",
    "    @classmethod\n",
    "    def set_raise(cls, amount):\n",
    "        cls.raise_percent = amount"
   ]
  },
  {
   "cell_type": "code",
   "execution_count": 93,
   "metadata": {},
   "outputs": [],
   "source": [
    "emp_1 = Employee(\"James\", \"Hughes\", 32, 5000)\n",
    "emp_2 = Employee(\"Charlie\", \"Brown\", 22, 3000)"
   ]
  },
  {
   "cell_type": "code",
   "execution_count": 94,
   "metadata": {},
   "outputs": [],
   "source": [
    "# class'ın tüm objelerinde güncelleme yapar\n",
    "Employee.set_raise(1.6)"
   ]
  },
  {
   "cell_type": "code",
   "execution_count": 96,
   "metadata": {},
   "outputs": [
    {
     "name": "stdout",
     "output_type": "stream",
     "text": [
      "1.6\n",
      "1.6\n",
      "1.6\n"
     ]
    }
   ],
   "source": [
    "print(emp_1.raise_percent)\n",
    "print(emp_2.raise_percent)\n",
    "print(Employee.raise_percent)"
   ]
  },
  {
   "cell_type": "code",
   "execution_count": 97,
   "outputs": [],
   "source": [
    "# class'ın tüm objelerinde güncelleme yapar\n",
    "emp_1.set_raise(2.3)"
   ],
   "metadata": {
    "collapsed": false
   }
  },
  {
   "cell_type": "code",
   "execution_count": 98,
   "outputs": [
    {
     "name": "stdout",
     "output_type": "stream",
     "text": [
      "2.3\n",
      "2.3\n",
      "2.3\n"
     ]
    }
   ],
   "source": [
    "print(emp_1.raise_percent)\n",
    "print(emp_2.raise_percent)\n",
    "print(Employee.raise_percent)"
   ],
   "metadata": {
    "collapsed": false
   }
  },
  {
   "cell_type": "code",
   "execution_count": 99,
   "outputs": [],
   "source": [
    "# yalnızca instance üzerinde güncelleme yapar\n",
    "emp_1.raise_percent = 0"
   ],
   "metadata": {
    "collapsed": false
   }
  },
  {
   "cell_type": "code",
   "execution_count": 100,
   "outputs": [
    {
     "name": "stdout",
     "output_type": "stream",
     "text": [
      "0\n",
      "2.3\n",
      "2.3\n"
     ]
    }
   ],
   "source": [
    "print(emp_1.raise_percent)\n",
    "print(emp_2.raise_percent)\n",
    "print(Employee.raise_percent)"
   ],
   "metadata": {
    "collapsed": false
   }
  },
  {
   "cell_type": "markdown",
   "metadata": {},
   "source": [
    "### Alternatice Constructor\n",
    "- Diyelim ki bize class'ı oluştururken input olarak string veriyorlar ve bizim bundan **name, last, age, pay** gibi bilgileri kendimiz çıkarmamız lazım."
   ]
  },
  {
   "cell_type": "code",
   "execution_count": 103,
   "metadata": {},
   "outputs": [],
   "source": [
    "emp_1_str = \"James-Hughes-32-5000\"\n",
    "emp_2_str = \"Charlie-Brown-22-3000\""
   ]
  },
  {
   "cell_type": "code",
   "execution_count": 104,
   "metadata": {},
   "outputs": [
    {
     "data": {
      "text/plain": "['James', 'Hughes', '32', '5000']"
     },
     "execution_count": 104,
     "metadata": {},
     "output_type": "execute_result"
    }
   ],
   "source": [
    "emp_1_str.split(\"-\")"
   ]
  },
  {
   "cell_type": "code",
   "execution_count": 105,
   "metadata": {},
   "outputs": [],
   "source": [
    "name, last, age, pay = emp_1_str.split(\"-\")"
   ]
  },
  {
   "cell_type": "code",
   "execution_count": 112,
   "outputs": [
    {
     "name": "stdout",
     "output_type": "stream",
     "text": [
      "James\n",
      "5000\n"
     ]
    }
   ],
   "source": [
    "print(name)\n",
    "print(pay)"
   ],
   "metadata": {
    "collapsed": false
   }
  },
  {
   "cell_type": "code",
   "execution_count": 113,
   "metadata": {},
   "outputs": [],
   "source": [
    "emp_1 = Employee(name, last, age, pay)"
   ]
  },
  {
   "cell_type": "markdown",
   "metadata": {},
   "source": [
    "- Ama belki her zaman bu şekilde vermeyeceğiz. String olarak input geldiğinde objenin bu şekilde oluşması için başka nasıl bir yol izleyebilirim?\n",
    "- Her seferinde kendim parse etmek yerine buna bir method yazabilirim."
   ]
  },
  {
   "cell_type": "code",
   "execution_count": 115,
   "metadata": {},
   "outputs": [],
   "source": [
    "class Employee:\n",
    "\n",
    "    raise_percent = 1.05\n",
    "    num_emp = 0\n",
    "\n",
    "    def __init__(self, name, last, age, pay):\n",
    "        self.name = name\n",
    "        self.last = last\n",
    "        self.age = age\n",
    "        self.pay = pay\n",
    "        Employee.num_emp += 1\n",
    "\n",
    "    def apply_raise (self):\n",
    "        self.pay = self.pay * self.raise_percent\n",
    "\n",
    "    @classmethod\n",
    "    def set_raise(cls, amount):\n",
    "        cls.raise_percent = amount\n",
    "\n",
    "    @classmethod\n",
    "    def from_string(cls, emp_str):\n",
    "        name, last, age, pay = emp_1_str.split(\"-\")\n",
    "        return cls(name, last, int(age), float(pay)) # yeni çalışan yaratacak ve döndürecek"
   ]
  },
  {
   "cell_type": "code",
   "execution_count": 116,
   "metadata": {},
   "outputs": [],
   "source": [
    "emp_1_str = \"James-Hughes-32-5000\"\n",
    "emp_2_str = \"Charlie-Brown-22-3000\""
   ]
  },
  {
   "cell_type": "code",
   "execution_count": 120,
   "metadata": {},
   "outputs": [],
   "source": [
    "# emp_1 = Employee(\"James\", \"Hughes\", 32, 5000) bunu bana from_string yapıyor\n",
    "emp_1 = Employee.from_string(emp_1_str)"
   ]
  },
  {
   "cell_type": "code",
   "execution_count": 121,
   "metadata": {},
   "outputs": [
    {
     "data": {
      "text/plain": "5000.0"
     },
     "execution_count": 121,
     "metadata": {},
     "output_type": "execute_result"
    }
   ],
   "source": [
    "emp_1.pay"
   ]
  },
  {
   "cell_type": "markdown",
   "metadata": {},
   "source": [
    "### Static Method\n",
    "- Regular method'lar, class'ın instance (oluşturulan objeyi), methodlara otomatik olarak argüman olarak veriyordu (self olarak). Class methodları class'ı otomatik olarak argüman olarak veriyor.\n",
    "- Static methodlar otomatik olarak bir şey vermeyen methodlardır, otomatik bir input verilnez.\n",
    "- Static metotlar da yine aynı şek. intsnace veya class üzerinden çağırılabilir.\n",
    "- Instance veya class'a methodun içerisinde erişim olmuyorsa static olarak tanımlamak daha iyi olabilir."
   ]
  },
  {
   "cell_type": "code",
   "execution_count": 122,
   "metadata": {},
   "outputs": [],
   "source": [
    "class Employee:\n",
    "\n",
    "    raise_percent = 1.05\n",
    "    num_emp = 0\n",
    "\n",
    "    def __init__(self, name, last, age, pay):\n",
    "        self.name = name\n",
    "        self.last = last\n",
    "        self.age = age\n",
    "        self.pay = pay\n",
    "        Employee.num_emp += 1\n",
    "\n",
    "    def apply_raise (self):\n",
    "        self.pay = self.pay * self.raise_percent\n",
    "\n",
    "    @classmethod\n",
    "    def set_raise(cls, amount):\n",
    "        cls.raise_percent = amount\n",
    "\n",
    "    @classmethod\n",
    "    def from_string(cls, emp_str):\n",
    "        name, last, age, pay = emp_1_str.split(\"-\")\n",
    "        return cls(name, last, int(age), float(pay))\n",
    "\n",
    "    @staticmethod\n",
    "    def holiday_print(day):\n",
    "        if day == \"weekend\":\n",
    "            print(\"This is an off day\")\n",
    "        else:\n",
    "            print(\"This is not an off day\")"
   ]
  },
  {
   "cell_type": "code",
   "execution_count": 61,
   "metadata": {},
   "outputs": [
    {
     "name": "stdout",
     "output_type": "stream",
     "text": [
      "This is an off day\n"
     ]
    }
   ],
   "source": [
    "Employee.holiday_print(\"weekend\")"
   ]
  },
  {
   "cell_type": "code",
   "execution_count": 63,
   "metadata": {},
   "outputs": [],
   "source": [
    "emp_1 = Employee(\"James\", \"Hughes\", 32, 5000)"
   ]
  },
  {
   "cell_type": "code",
   "execution_count": 64,
   "metadata": {},
   "outputs": [
    {
     "name": "stdout",
     "output_type": "stream",
     "text": [
      "This is not an off day\n"
     ]
    }
   ],
   "source": [
    "emp_1.holiday_print(\"working day\")"
   ]
  }
 ],
 "metadata": {
  "kernelspec": {
   "display_name": "Python 3.10.5 64-bit",
   "language": "python",
   "name": "python3"
  },
  "language_info": {
   "codemirror_mode": {
    "name": "ipython",
    "version": 3
   },
   "file_extension": ".py",
   "mimetype": "text/x-python",
   "name": "python",
   "nbconvert_exporter": "python",
   "pygments_lexer": "ipython3",
   "version": "3.10.5"
  },
  "orig_nbformat": 4,
  "vscode": {
   "interpreter": {
    "hash": "aee8b7b246df8f9039afb4144a1f6fd8d2ca17a180786b69acc140d282b71a49"
   }
  }
 },
 "nbformat": 4,
 "nbformat_minor": 2
}
