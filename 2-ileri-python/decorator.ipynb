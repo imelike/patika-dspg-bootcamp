{
 "cells": [
  {
   "cell_type": "markdown",
   "metadata": {},
   "source": [
    "# Decorators\n",
    "---\n",
    "Başka bir fonksiyonu input olarak alıp, aldığı fonksiyonu değiştirmeden, ona yeni fonksiyonaliteler ekleyen yapılardır.\n"
   ]
  },
  {
   "cell_type": "code",
   "execution_count": 1,
   "metadata": {},
   "outputs": [],
   "source": [
    "def print_func():\n",
    "    print(\"hey\")"
   ]
  },
  {
   "cell_type": "code",
   "execution_count": 2,
   "metadata": {},
   "outputs": [],
   "source": [
    "# fonksiyonalite ekleme kısmı inner func.ta (wrapper_func'ta) yapılır\n",
    "\n",
    "def decorator_func(func):\n",
    "    def wrapper_func():\n",
    "        return func()\n",
    "\n",
    "    return wrapper_func    #fonksiyonu obje olarak döndürür, çağırmaz"
   ]
  },
  {
   "cell_type": "code",
   "execution_count": 3,
   "metadata": {},
   "outputs": [],
   "source": [
    "decorated_print = decorator_func(print_func)"
   ]
  },
  {
   "cell_type": "code",
   "execution_count": 4,
   "metadata": {},
   "outputs": [
    {
     "name": "stdout",
     "output_type": "stream",
     "text": [
      "hey\n"
     ]
    }
   ],
   "source": [
    "# inner func'ın objesini döndürür\n",
    "decorated_print()"
   ]
  },
  {
   "cell_type": "markdown",
   "metadata": {},
   "source": [
    "- Var olan fonksiyona, fonksiyonu değiştirmeden yeni bir davranış kazandıracağız."
   ]
  },
  {
   "cell_type": "code",
   "execution_count": 5,
   "metadata": {},
   "outputs": [],
   "source": [
    "# f string üzerinden,\n",
    "# func objesi üzerinden name attribute'unu getir\n",
    "def decorator_func(func):\n",
    "    def wrapper_func():\n",
    "        print(f\"The name of the function is {func.__name__}\")\n",
    "        return func()\n",
    "\n",
    "    return wrapper_func"
   ]
  },
  {
   "cell_type": "code",
   "execution_count": 5,
   "metadata": {},
   "outputs": [],
   "source": [
    "decorated_print = decorator_func(print_func)"
   ]
  },
  {
   "cell_type": "code",
   "execution_count": 6,
   "metadata": {},
   "outputs": [
    {
     "name": "stdout",
     "output_type": "stream",
     "text": [
      "hey\n"
     ]
    }
   ],
   "source": [
    "decorated_print()"
   ]
  },
  {
   "cell_type": "markdown",
   "metadata": {},
   "source": [
    " **wrappper_func kullanmak yerine @decorator_func kullanarak,**\n",
    "#### Aynı davranışı şu şekilde de yapabilirdik:"
   ]
  },
  {
   "cell_type": "code",
   "execution_count": 14,
   "metadata": {},
   "outputs": [],
   "source": [
    "# şununla aynı: print_func = decorator_func(print_func)\n",
    "# decorator_func'ın içerisine print_func'ı ver\n",
    "@decorator_func\n",
    "def print_func():\n",
    "    print(\"hey\")\n"
   ]
  },
  {
   "cell_type": "code",
   "execution_count": 15,
   "metadata": {},
   "outputs": [
    {
     "name": "stdout",
     "output_type": "stream",
     "text": [
      "hey\n"
     ]
    }
   ],
   "source": [
    "print_func()"
   ]
  },
  {
   "cell_type": "code",
   "execution_count": 25,
   "metadata": {},
   "outputs": [],
   "source": [
    "# başka bir örnek için decorator deneyelim\n",
    "# 1. def_func\n",
    "def func(name, number):\n",
    "    print(f\"Name: {name}, number: {number}\")"
   ]
  },
  {
   "cell_type": "code",
   "execution_count": 27,
   "metadata": {},
   "outputs": [
    {
     "name": "stdout",
     "output_type": "stream",
     "text": [
      "Name: jack, number: 102\n"
     ]
    }
   ],
   "source": [
    "func(\"jack\", 102)"
   ]
  },
  {
   "cell_type": "code",
   "execution_count": 26,
   "metadata": {},
   "outputs": [],
   "source": [
    "def decorator_func(func):\n",
    "    def wrapper_func():\n",
    "        print(f\"The name of the function is {func.__name__}\")\n",
    "        return func(*args)\n",
    "\n",
    "    return wrapper_func"
   ]
  },
  {
   "cell_type": "code",
   "execution_count": 23,
   "outputs": [],
   "source": [
    "# yukarıda tanımlanan decorator_func'a yeni bir olayı func fonksiyonuyla kazandırıyorum\n",
    "# ÖNEMLİ, 1. def_func iptal olur\n",
    "\n",
    "@decorator_func # func = decorator_func(func)\n",
    "def func(name, number):\n",
    "    print(f\"Name: {name}, number: {number}\")"
   ],
   "metadata": {
    "collapsed": false
   }
  },
  {
   "cell_type": "code",
   "execution_count": 24,
   "outputs": [
    {
     "ename": "TypeError",
     "evalue": "wrapper_func() takes 0 positional arguments but 2 were given",
     "output_type": "error",
     "traceback": [
      "\u001B[1;31m---------------------------------------------------------------------------\u001B[0m",
      "\u001B[1;31mTypeError\u001B[0m                                 Traceback (most recent call last)",
      "\u001B[1;32m~\\AppData\\Local\\Temp\\ipykernel_1556\\2204619391.py\u001B[0m in \u001B[0;36m<module>\u001B[1;34m\u001B[0m\n\u001B[0;32m      1\u001B[0m \u001B[1;31m# bu şekilde wrapper_func'ı jack ve 102 le çağırıyoruz. ama wrapper hiç bir argüman kabul etmiyor.\u001B[0m\u001B[1;33m\u001B[0m\u001B[1;33m\u001B[0m\u001B[0m\n\u001B[1;32m----> 2\u001B[1;33m \u001B[0mfunc\u001B[0m\u001B[1;33m(\u001B[0m\u001B[1;34m\"Jack\"\u001B[0m\u001B[1;33m,\u001B[0m \u001B[1;36m102\u001B[0m\u001B[1;33m)\u001B[0m\u001B[1;33m\u001B[0m\u001B[1;33m\u001B[0m\u001B[0m\n\u001B[0m",
      "\u001B[1;31mTypeError\u001B[0m: wrapper_func() takes 0 positional arguments but 2 were given"
     ]
    }
   ],
   "source": [
    "# func fonksiyonu artık decorator_func'a bağlı bir fonksiyon\n",
    "# decorator fonksiyonu da wrapper_func'a bağlı\n",
    "# wrapper_func da argüman almıyor o yüzden bu func fonksiyonu çalışamıyor\n",
    "func(\"Jack\", 102)"
   ],
   "metadata": {
    "collapsed": false
   }
  },
  {
   "cell_type": "code",
   "execution_count": 28,
   "metadata": {},
   "outputs": [],
   "source": [
    "# ÇÖZÜLDÜ !!!\n",
    "# wrapper_func'a argüman aldırıyorum\n",
    "def decorator_func(func):\n",
    "    def wrapper_func(*args):\n",
    "        print(f\"The name of the function is {func.__name__}\")\n",
    "        return func(*args)\n",
    "\n",
    "    return wrapper_func"
   ]
  },
  {
   "cell_type": "code",
   "execution_count": 29,
   "metadata": {},
   "outputs": [],
   "source": [
    "@decorator_func\n",
    "def func(name, number):\n",
    "    print(f\"Name: {name}, number: {number}\")"
   ]
  },
  {
   "cell_type": "code",
   "execution_count": 30,
   "metadata": {},
   "outputs": [
    {
     "name": "stdout",
     "output_type": "stream",
     "text": [
      "The name of the function is func\n",
      "Name: Jack, number: 102\n"
     ]
    }
   ],
   "source": [
    "func(\"Jack\", 102)"
   ]
  },
  {
   "cell_type": "code",
   "execution_count": null,
   "outputs": [],
   "source": [],
   "metadata": {
    "collapsed": false
   }
  }
 ],
 "metadata": {
  "kernelspec": {
   "display_name": "Python 3.10.5 64-bit",
   "language": "python",
   "name": "python3"
  },
  "language_info": {
   "codemirror_mode": {
    "name": "ipython",
    "version": 3
   },
   "file_extension": ".py",
   "mimetype": "text/x-python",
   "name": "python",
   "nbconvert_exporter": "python",
   "pygments_lexer": "ipython3",
   "version": "3.10.5"
  },
  "orig_nbformat": 4,
  "vscode": {
   "interpreter": {
    "hash": "aee8b7b246df8f9039afb4144a1f6fd8d2ca17a180786b69acc140d282b71a49"
   }
  }
 },
 "nbformat": 4,
 "nbformat_minor": 2
}
